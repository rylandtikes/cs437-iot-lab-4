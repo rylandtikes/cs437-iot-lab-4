{
 "cells": [
  {
   "cell_type": "markdown",
   "metadata": {
    "id": "kBtHS6plKRiY"
   },
   "source": [
    "# Markdown\n",
    "This is a markdown cell where we write instructions and math formulas. **Double click** to edit and **press Run** to see the formatted texts."
   ]
  },
  {
   "cell_type": "markdown",
   "metadata": {
    "id": "JegtVhL7KRia"
   },
   "source": [
    "# Load and Save Notebook\n",
    "To load a note book, just go to \"File\" and navigate to \"Open...\". Use keyboard shortcut **Cmd/Ctrl+s** to save the file. You will be saving a checkpoint as well if you use this keyboard shortcut. You can click on \"File\" on the menu bar and select an option to revert to a certain checkpoint. Jupyter Notebook will also autosave your file every 120s, but it's still a good practice to press **Cmd/Ctrl+s** often when you write programs. "
   ]
  },
  {
   "cell_type": "markdown",
   "metadata": {
    "id": "OVtwFnC_KRib"
   },
   "source": [
    "# Code Blocks\n",
    "Below will be an example of a Python code block. Hit **Run** to run the block."
   ]
  },
  {
   "cell_type": "code",
   "execution_count": 1,
   "metadata": {
    "id": "sudQ5sdOKRib",
    "outputId": "d994c85a-3b21-4ab4-d635-38f593cf5278"
   },
   "outputs": [
    {
     "name": "stdout",
     "output_type": "stream",
     "text": [
      "Hello world!\n"
     ]
    }
   ],
   "source": [
    "print(\"Hello world!\")"
   ]
  },
  {
   "cell_type": "markdown",
   "metadata": {
    "id": "h4LTa3gCKRid"
   },
   "source": [
    "You can also hit **Run All** in \"Cell\" menu. To run every blocks. "
   ]
  },
  {
   "cell_type": "code",
   "execution_count": 2,
   "metadata": {
    "id": "3CTt7IpqKRid",
    "outputId": "30806fa4-6848-47d4-bf3a-021a3d568854"
   },
   "outputs": [
    {
     "name": "stdout",
     "output_type": "stream",
     "text": [
      "Hello world, again!\n"
     ]
    }
   ],
   "source": [
    "print(\"Hello world, again!\")"
   ]
  },
  {
   "cell_type": "markdown",
   "metadata": {
    "id": "8109g3-nKRid"
   },
   "source": [
    "# Python Programming\n",
    "We have finished Jupyter Notebook introduction. Below we will start Python Programming."
   ]
  },
  {
   "cell_type": "markdown",
   "metadata": {
    "id": "IQIObaB1KRie"
   },
   "source": [
    "## Importing Libraries\n",
    "For the lab, we will be using different libraries. This is how you do it in Python."
   ]
  },
  {
   "cell_type": "code",
   "execution_count": 3,
   "metadata": {
    "id": "__C_58aaKRie"
   },
   "outputs": [],
   "source": [
    "import pandas as pd\n",
    "import numpy as np"
   ]
  },
  {
   "cell_type": "markdown",
   "metadata": {
    "id": "_zZ5q382KRif"
   },
   "source": [
    "By importing pandas as pd, you can use the shorthand `pd` when you need to use pandas. The same method applies to `np`."
   ]
  },
  {
   "cell_type": "markdown",
   "metadata": {
    "id": "P9Q5ZaHwKRif"
   },
   "source": [
    "## NumPy Tutorial\n",
    "Below we show you a few ways to create arrays."
   ]
  },
  {
   "cell_type": "code",
   "execution_count": 4,
   "metadata": {
    "id": "wT_G2NQsKRif",
    "outputId": "9d53105a-73aa-4c9a-d91a-ac52cb828d14"
   },
   "outputs": [
    {
     "name": "stdout",
     "output_type": "stream",
     "text": [
      "x:\n",
      " [0 1 2 3]\n",
      "y:\n",
      " [[0 1 2 3]\n",
      " [4 5 6 7]]\n",
      "z:\n",
      " [[0. 0. 0. 0.]\n",
      " [0. 0. 0. 0.]\n",
      " [0. 0. 0. 0.]]\n",
      "a:\n",
      " [[1. 1. 1. 1. 1.]\n",
      " [1. 1. 1. 1. 1.]\n",
      " [1. 1. 1. 1. 1.]\n",
      " [1. 1. 1. 1. 1.]\n",
      " [1. 1. 1. 1. 1.]]\n",
      "b:\n",
      " [ 0  2  4  6  8 10 12 14 16 18]\n",
      "c:\n",
      " [[ 0.  2.  4.  6.  8.]\n",
      " [10. 12. 14. 16. 18.]]\n",
      "d:\n",
      " [[0.54133542 0.30350381 0.6017118 ]\n",
      " [0.66899163 0.27073733 0.35937466]\n",
      " [0.54862826 0.64123846 0.75724995]\n",
      " [0.08144821 0.59842252 0.41777302]\n",
      " [0.73090993 0.19381552 0.63867736]\n",
      " [0.05304834 0.8260059  0.57949976]]\n",
      "New d:\n",
      " [[2.62400627 1.91051143 2.80513541]\n",
      " [3.00697489 1.812212   2.07812399]\n",
      " [2.64588477 2.92371537 3.27174984]\n",
      " [1.24434464 2.79526756 2.25331906]\n",
      " [3.19272978 1.58144657 2.91603209]\n",
      " [1.15914501 3.47801769 2.73849927]]\n",
      "e:\n",
      " [[12.62400627 11.91051143 12.80513541]\n",
      " [13.00697489 11.812212   12.07812399]\n",
      " [12.64588477 12.92371537 13.27174984]\n",
      " [11.24434464 12.79526756 12.25331906]\n",
      " [13.19272978 11.58144657 12.91603209]\n",
      " [11.15914501 13.47801769 12.73849927]]\n"
     ]
    }
   ],
   "source": [
    "# Create a basic array\n",
    "x = np.array([0, 1, 2, 3])\n",
    "print(\"x:\\n\", x)\n",
    "\n",
    "# Create a 2D array\n",
    "y = np.array([[0, 1, 2, 3],\n",
    "              [4, 5, 6, 7]])\n",
    "print(\"y:\\n\", y)\n",
    "\n",
    "# Create a 3 by 4 empty array\n",
    "z = np.zeros((3, 4))\n",
    "print(\"z:\\n\", z)\n",
    "\n",
    "# Create a 5 by 5 array filled with 1s\n",
    "a = np.ones((5, 5))\n",
    "print(\"a:\\n\", a)\n",
    "\n",
    "# Create a sequence of numbers, note the array does not include 20\n",
    "b = np.arange(0, 20, 2)\n",
    "print(\"b:\\n\", b)\n",
    "\n",
    "# Use reshape to change the dimention of the array\n",
    "c = np.arange(0, 20, 2, dtype=float).reshape(2, 5)\n",
    "print(\"c:\\n\", c)\n",
    "\n",
    "# Create a random 6 by 3 array with value between [0, 1).\n",
    "d = np.random.rand(6, 3)\n",
    "print(\"d:\\n\", d)\n",
    "    \n",
    "    # This creates random values ranging between [1, 4).\n",
    "d = d*3 + 1\n",
    "print(\"New d:\\n\", d)\n",
    "\n",
    "# Operations\n",
    "e = d + 10\n",
    "print(\"e:\\n\", e)"
   ]
  },
  {
   "cell_type": "markdown",
   "metadata": {
    "id": "vxSWvM_XKRig"
   },
   "source": [
    "**Now it's your turn.** \n",
    "\n",
    "**To-do:**\n",
    "1. Create and print out an empty array with dimensions of 15 by 29.\n",
    "2. From the 0 array you created, make it to an ones array without using np.ones. Print out the array.\n",
    "3. Create an 8 by 9 array with values between $[5, 11)$. Note that 11 is excluded. Print out the array.\n",
    "\n"
   ]
  },
  {
   "cell_type": "code",
   "execution_count": 5,
   "metadata": {
    "id": "ELGtvgF_KRig"
   },
   "outputs": [
    {
     "name": "stdout",
     "output_type": "stream",
     "text": [
      "1. Empty array 'arr0' with dimensions of 15 by 29:\n",
      " [[0. 0. 0. 0. 0. 0. 0. 0. 0. 0. 0. 0. 0. 0. 0. 0. 0. 0. 0. 0. 0. 0. 0. 0.\n",
      "  0. 0. 0. 0. 0.]\n",
      " [0. 0. 0. 0. 0. 0. 0. 0. 0. 0. 0. 0. 0. 0. 0. 0. 0. 0. 0. 0. 0. 0. 0. 0.\n",
      "  0. 0. 0. 0. 0.]\n",
      " [0. 0. 0. 0. 0. 0. 0. 0. 0. 0. 0. 0. 0. 0. 0. 0. 0. 0. 0. 0. 0. 0. 0. 0.\n",
      "  0. 0. 0. 0. 0.]\n",
      " [0. 0. 0. 0. 0. 0. 0. 0. 0. 0. 0. 0. 0. 0. 0. 0. 0. 0. 0. 0. 0. 0. 0. 0.\n",
      "  0. 0. 0. 0. 0.]\n",
      " [0. 0. 0. 0. 0. 0. 0. 0. 0. 0. 0. 0. 0. 0. 0. 0. 0. 0. 0. 0. 0. 0. 0. 0.\n",
      "  0. 0. 0. 0. 0.]\n",
      " [0. 0. 0. 0. 0. 0. 0. 0. 0. 0. 0. 0. 0. 0. 0. 0. 0. 0. 0. 0. 0. 0. 0. 0.\n",
      "  0. 0. 0. 0. 0.]\n",
      " [0. 0. 0. 0. 0. 0. 0. 0. 0. 0. 0. 0. 0. 0. 0. 0. 0. 0. 0. 0. 0. 0. 0. 0.\n",
      "  0. 0. 0. 0. 0.]\n",
      " [0. 0. 0. 0. 0. 0. 0. 0. 0. 0. 0. 0. 0. 0. 0. 0. 0. 0. 0. 0. 0. 0. 0. 0.\n",
      "  0. 0. 0. 0. 0.]\n",
      " [0. 0. 0. 0. 0. 0. 0. 0. 0. 0. 0. 0. 0. 0. 0. 0. 0. 0. 0. 0. 0. 0. 0. 0.\n",
      "  0. 0. 0. 0. 0.]\n",
      " [0. 0. 0. 0. 0. 0. 0. 0. 0. 0. 0. 0. 0. 0. 0. 0. 0. 0. 0. 0. 0. 0. 0. 0.\n",
      "  0. 0. 0. 0. 0.]\n",
      " [0. 0. 0. 0. 0. 0. 0. 0. 0. 0. 0. 0. 0. 0. 0. 0. 0. 0. 0. 0. 0. 0. 0. 0.\n",
      "  0. 0. 0. 0. 0.]\n",
      " [0. 0. 0. 0. 0. 0. 0. 0. 0. 0. 0. 0. 0. 0. 0. 0. 0. 0. 0. 0. 0. 0. 0. 0.\n",
      "  0. 0. 0. 0. 0.]\n",
      " [0. 0. 0. 0. 0. 0. 0. 0. 0. 0. 0. 0. 0. 0. 0. 0. 0. 0. 0. 0. 0. 0. 0. 0.\n",
      "  0. 0. 0. 0. 0.]\n",
      " [0. 0. 0. 0. 0. 0. 0. 0. 0. 0. 0. 0. 0. 0. 0. 0. 0. 0. 0. 0. 0. 0. 0. 0.\n",
      "  0. 0. 0. 0. 0.]\n",
      " [0. 0. 0. 0. 0. 0. 0. 0. 0. 0. 0. 0. 0. 0. 0. 0. 0. 0. 0. 0. 0. 0. 0. 0.\n",
      "  0. 0. 0. 0. 0.]]\n",
      "2. Converted 'arr0' into a ones array:\n",
      " [[1. 1. 1. 1. 1. 1. 1. 1. 1. 1. 1. 1. 1. 1. 1. 1. 1. 1. 1. 1. 1. 1. 1. 1.\n",
      "  1. 1. 1. 1. 1.]\n",
      " [1. 1. 1. 1. 1. 1. 1. 1. 1. 1. 1. 1. 1. 1. 1. 1. 1. 1. 1. 1. 1. 1. 1. 1.\n",
      "  1. 1. 1. 1. 1.]\n",
      " [1. 1. 1. 1. 1. 1. 1. 1. 1. 1. 1. 1. 1. 1. 1. 1. 1. 1. 1. 1. 1. 1. 1. 1.\n",
      "  1. 1. 1. 1. 1.]\n",
      " [1. 1. 1. 1. 1. 1. 1. 1. 1. 1. 1. 1. 1. 1. 1. 1. 1. 1. 1. 1. 1. 1. 1. 1.\n",
      "  1. 1. 1. 1. 1.]\n",
      " [1. 1. 1. 1. 1. 1. 1. 1. 1. 1. 1. 1. 1. 1. 1. 1. 1. 1. 1. 1. 1. 1. 1. 1.\n",
      "  1. 1. 1. 1. 1.]\n",
      " [1. 1. 1. 1. 1. 1. 1. 1. 1. 1. 1. 1. 1. 1. 1. 1. 1. 1. 1. 1. 1. 1. 1. 1.\n",
      "  1. 1. 1. 1. 1.]\n",
      " [1. 1. 1. 1. 1. 1. 1. 1. 1. 1. 1. 1. 1. 1. 1. 1. 1. 1. 1. 1. 1. 1. 1. 1.\n",
      "  1. 1. 1. 1. 1.]\n",
      " [1. 1. 1. 1. 1. 1. 1. 1. 1. 1. 1. 1. 1. 1. 1. 1. 1. 1. 1. 1. 1. 1. 1. 1.\n",
      "  1. 1. 1. 1. 1.]\n",
      " [1. 1. 1. 1. 1. 1. 1. 1. 1. 1. 1. 1. 1. 1. 1. 1. 1. 1. 1. 1. 1. 1. 1. 1.\n",
      "  1. 1. 1. 1. 1.]\n",
      " [1. 1. 1. 1. 1. 1. 1. 1. 1. 1. 1. 1. 1. 1. 1. 1. 1. 1. 1. 1. 1. 1. 1. 1.\n",
      "  1. 1. 1. 1. 1.]\n",
      " [1. 1. 1. 1. 1. 1. 1. 1. 1. 1. 1. 1. 1. 1. 1. 1. 1. 1. 1. 1. 1. 1. 1. 1.\n",
      "  1. 1. 1. 1. 1.]\n",
      " [1. 1. 1. 1. 1. 1. 1. 1. 1. 1. 1. 1. 1. 1. 1. 1. 1. 1. 1. 1. 1. 1. 1. 1.\n",
      "  1. 1. 1. 1. 1.]\n",
      " [1. 1. 1. 1. 1. 1. 1. 1. 1. 1. 1. 1. 1. 1. 1. 1. 1. 1. 1. 1. 1. 1. 1. 1.\n",
      "  1. 1. 1. 1. 1.]\n",
      " [1. 1. 1. 1. 1. 1. 1. 1. 1. 1. 1. 1. 1. 1. 1. 1. 1. 1. 1. 1. 1. 1. 1. 1.\n",
      "  1. 1. 1. 1. 1.]\n",
      " [1. 1. 1. 1. 1. 1. 1. 1. 1. 1. 1. 1. 1. 1. 1. 1. 1. 1. 1. 1. 1. 1. 1. 1.\n",
      "  1. 1. 1. 1. 1.]]\n",
      "3. 8 by 9 array 'arr1' with values between [5,11):\n",
      " [[ 5.26176794  9.16495747  6.32044314  6.94993838  5.92581309 10.51493475\n",
      "   9.42034219  9.03797786  5.46455133]\n",
      " [ 7.66888454 10.86810531  8.45453186  5.50375269  7.50725669  7.83423852\n",
      "   8.56961613 10.9216895  10.01584572]\n",
      " [ 6.87031205  7.39026686  9.58594162  9.47601044  8.19113589  5.48949358\n",
      "   9.33636118  5.15149962  5.09787328]\n",
      " [ 6.43011711  5.49776101  5.07596551  9.09066661  7.29838706  9.30241496\n",
      "   5.3710866   6.91189565  7.36979654]\n",
      " [ 6.90675267  7.48087374  7.4256342   9.2555597   7.50502723 10.92651628\n",
      "  10.01239852  7.07565728  8.05445268]\n",
      " [10.13617297  5.8648022   7.25695757 10.06849978 10.10398696 10.43927166\n",
      "   5.74407759  8.30265925  8.70630908]\n",
      " [ 7.74869122  5.34523172  5.30256152  8.30782669  7.59906832 10.51735119\n",
      "   5.47817735  7.78068094  6.23365088]\n",
      " [ 8.33270977  6.67037776  5.20872815  7.53824786  6.81598386  8.92589841\n",
      "  10.14580676  9.56421753  7.85572735]]\n"
     ]
    }
   ],
   "source": [
    "### Insert code below ###\n",
    "\n",
    "# Q1 - Create and print out a 15 by 29 empty array.\n",
    "arr0 = np.zeros((15, 29))\n",
    "print(\"1. Empty array 'arr0' with dimensions of 15 by 29:\\n\", arr0)\n",
    "\n",
    "# Q2 - Use operations to convert arr from empty array to ones array\n",
    "arr0 = arr0 + 1\n",
    "print(\"2. Converted 'arr0' into a ones array:\\n\", arr0)\n",
    "\n",
    "# Q3\n",
    "# Create a random 8 by 9 array with value between [0, 1).\n",
    "arr1 = np.random.rand(8, 9)\n",
    "# Use operations to create random values ranging between [5, 11).\n",
    "arr1 = arr1*6 + 5\n",
    "print(\"3. 8 by 9 array 'arr1' with values between [5,11):\\n\", arr1)\n"
   ]
  },
  {
   "cell_type": "markdown",
   "metadata": {
    "id": "CoDQBXTYKRih"
   },
   "source": [
    "## Pandas Tutorial\n",
    "### Create Data Frame\n",
    "Pandas is a data frame that will be used to handel our data."
   ]
  },
  {
   "cell_type": "code",
   "execution_count": 6,
   "metadata": {
    "id": "CowXwPHhKRih",
    "outputId": "362a1271-4f11-41ae-a6d1-8238a7fc9a57"
   },
   "outputs": [
    {
     "name": "stdout",
     "output_type": "stream",
     "text": [
      "df_1:\n",
      "    col 1  col 2  col 3  col 4\n",
      "0      0      1      2      3\n",
      "1      4      5      6      7 \n",
      "\n",
      "------------------------------------\n",
      "df_1 using display:\n"
     ]
    },
    {
     "data": {
      "text/html": [
       "<div>\n",
       "<style scoped>\n",
       "    .dataframe tbody tr th:only-of-type {\n",
       "        vertical-align: middle;\n",
       "    }\n",
       "\n",
       "    .dataframe tbody tr th {\n",
       "        vertical-align: top;\n",
       "    }\n",
       "\n",
       "    .dataframe thead th {\n",
       "        text-align: right;\n",
       "    }\n",
       "</style>\n",
       "<table border=\"1\" class=\"dataframe\">\n",
       "  <thead>\n",
       "    <tr style=\"text-align: right;\">\n",
       "      <th></th>\n",
       "      <th>col 1</th>\n",
       "      <th>col 2</th>\n",
       "      <th>col 3</th>\n",
       "      <th>col 4</th>\n",
       "    </tr>\n",
       "  </thead>\n",
       "  <tbody>\n",
       "    <tr>\n",
       "      <th>0</th>\n",
       "      <td>0</td>\n",
       "      <td>1</td>\n",
       "      <td>2</td>\n",
       "      <td>3</td>\n",
       "    </tr>\n",
       "    <tr>\n",
       "      <th>1</th>\n",
       "      <td>4</td>\n",
       "      <td>5</td>\n",
       "      <td>6</td>\n",
       "      <td>7</td>\n",
       "    </tr>\n",
       "  </tbody>\n",
       "</table>\n",
       "</div>"
      ],
      "text/plain": [
       "   col 1  col 2  col 3  col 4\n",
       "0      0      1      2      3\n",
       "1      4      5      6      7"
      ]
     },
     "metadata": {},
     "output_type": "display_data"
    },
    {
     "name": "stdout",
     "output_type": "stream",
     "text": [
      "------------------------------------\n",
      "df_2:\n",
      "   Aminal   Color  Age\n",
      "0    Dog  Yellow    1\n",
      "1    Cat    Pink    3 \n",
      "\n",
      "------------------------------------\n"
     ]
    },
    {
     "data": {
      "text/plain": [
       "Aminal    object\n",
       "Color     object\n",
       "Age        int64\n",
       "dtype: object"
      ]
     },
     "execution_count": 6,
     "metadata": {},
     "output_type": "execute_result"
    }
   ],
   "source": [
    "# Create a data frame from numpy array\n",
    "df_1 = pd.DataFrame(y, columns=['col 1', 'col 2', 'col 3', 'col 4'])\n",
    "print(\"df_1:\\n\", df_1, '\\n')\n",
    "print(\"------------------------------------\") # for readability only\n",
    "\n",
    "# You can also use display() to make the dataframe looks nicer at the output\n",
    "print(\"df_1 using display:\")\n",
    "display(df_1)\n",
    "print(\"------------------------------------\")\n",
    "\n",
    "# Create a data frame with strings\n",
    "data_2 = {'Aminal': ['Dog', 'Cat'], 'Color': ['Yellow', 'Pink'], 'Age': [1, 3]}\n",
    "df_2 = pd.DataFrame(data=data_2)\n",
    "print(\"df_2:\\n\", df_2, '\\n')\n",
    "print(\"------------------------------------\")\n",
    "\n",
    "# Print the type of the data. Notice that Age is int\n",
    "df_2.dtypes"
   ]
  },
  {
   "cell_type": "markdown",
   "metadata": {
    "id": "-REYKCRbKRih"
   },
   "source": [
    "#### Now it's your turn. \n",
    "\n",
    "**To-do:**\n",
    "\n",
    "1. Create a data frame containing demographics of you and your 2 friends. The data frame should be 3 by 4. The columns will be 'Name', 'Age', 'Height', 'Hobby'. You can make up data if you like. Print or display the result. "
   ]
  },
  {
   "cell_type": "code",
   "execution_count": 7,
   "metadata": {
    "id": "NP_C8zBmKRii"
   },
   "outputs": [
    {
     "name": "stdout",
     "output_type": "stream",
     "text": [
      "Dataframe (3 by 4) containing demographics of three individuals:\n"
     ]
    },
    {
     "data": {
      "text/html": [
       "<div>\n",
       "<style scoped>\n",
       "    .dataframe tbody tr th:only-of-type {\n",
       "        vertical-align: middle;\n",
       "    }\n",
       "\n",
       "    .dataframe tbody tr th {\n",
       "        vertical-align: top;\n",
       "    }\n",
       "\n",
       "    .dataframe thead th {\n",
       "        text-align: right;\n",
       "    }\n",
       "</style>\n",
       "<table border=\"1\" class=\"dataframe\">\n",
       "  <thead>\n",
       "    <tr style=\"text-align: right;\">\n",
       "      <th></th>\n",
       "      <th>Name</th>\n",
       "      <th>Age</th>\n",
       "      <th>Height</th>\n",
       "      <th>Hobby</th>\n",
       "    </tr>\n",
       "  </thead>\n",
       "  <tbody>\n",
       "    <tr>\n",
       "      <th>0</th>\n",
       "      <td>Madhu</td>\n",
       "      <td>21</td>\n",
       "      <td>5'4\"</td>\n",
       "      <td>Tennis</td>\n",
       "    </tr>\n",
       "    <tr>\n",
       "      <th>1</th>\n",
       "      <td>Rachel</td>\n",
       "      <td>24</td>\n",
       "      <td>5'5\"</td>\n",
       "      <td>Shopping</td>\n",
       "    </tr>\n",
       "    <tr>\n",
       "      <th>2</th>\n",
       "      <td>Ross</td>\n",
       "      <td>26</td>\n",
       "      <td>6'1\"</td>\n",
       "      <td>Museums</td>\n",
       "    </tr>\n",
       "  </tbody>\n",
       "</table>\n",
       "</div>"
      ],
      "text/plain": [
       "     Name  Age Height     Hobby\n",
       "0   Madhu   21   5'4\"    Tennis\n",
       "1  Rachel   24   5'5\"  Shopping\n",
       "2    Ross   26   6'1\"   Museums"
      ]
     },
     "metadata": {},
     "output_type": "display_data"
    }
   ],
   "source": [
    "### Insert your code below ###\n",
    "\n",
    "# Create a dictionary with demographics for three people\n",
    "friends = {'Name': ['Madhu', 'Rachel', 'Ross'], 'Age': [21,24,26], 'Height': [\"5'4\\\"\",\"5'5\\\"\",\"6'1\\\"\"],\n",
    "          'Hobby': ['Tennis', 'Shopping', 'Museums']}\n",
    "\n",
    "# Create a data frame using \"friends\" dictionary\n",
    "demographics = pd.DataFrame(data=friends)\n",
    "\n",
    "# Display dataframe\n",
    "print(\"Dataframe (3 by 4) containing demographics of three individuals:\")\n",
    "display(demographics)\n"
   ]
  },
  {
   "cell_type": "markdown",
   "metadata": {
    "id": "aFUcf8doKRii"
   },
   "source": [
    "### Modify Data Frame\n",
    "Notice that when you use `=`, you are not copying data frame. You are just saying that `df_3` is now referring to the same data frame as `df_1`. If you change values in `df_3` you will change the values in `df_1` too, since both are referring to the same dataframe. Also notice that every time you click **Run** in this block, the values in `'col 1'` changes.  "
   ]
  },
  {
   "cell_type": "code",
   "execution_count": 8,
   "metadata": {
    "id": "AWZ7IHGrKRii",
    "outputId": "ad9a47ee-b2c9-4aec-cffa-0dcff10c6143"
   },
   "outputs": [
    {
     "name": "stdout",
     "output_type": "stream",
     "text": [
      "New df_2:\n"
     ]
    },
    {
     "data": {
      "text/html": [
       "<div>\n",
       "<style scoped>\n",
       "    .dataframe tbody tr th:only-of-type {\n",
       "        vertical-align: middle;\n",
       "    }\n",
       "\n",
       "    .dataframe tbody tr th {\n",
       "        vertical-align: top;\n",
       "    }\n",
       "\n",
       "    .dataframe thead th {\n",
       "        text-align: right;\n",
       "    }\n",
       "</style>\n",
       "<table border=\"1\" class=\"dataframe\">\n",
       "  <thead>\n",
       "    <tr style=\"text-align: right;\">\n",
       "      <th></th>\n",
       "      <th>Aminal</th>\n",
       "      <th>Color</th>\n",
       "      <th>Age</th>\n",
       "      <th>Weight</th>\n",
       "    </tr>\n",
       "  </thead>\n",
       "  <tbody>\n",
       "    <tr>\n",
       "      <th>0</th>\n",
       "      <td>Dog</td>\n",
       "      <td>Yellow</td>\n",
       "      <td>1</td>\n",
       "      <td>89</td>\n",
       "    </tr>\n",
       "    <tr>\n",
       "      <th>1</th>\n",
       "      <td>Cat</td>\n",
       "      <td>Pink</td>\n",
       "      <td>3</td>\n",
       "      <td>60</td>\n",
       "    </tr>\n",
       "  </tbody>\n",
       "</table>\n",
       "</div>"
      ],
      "text/plain": [
       "  Aminal   Color  Age  Weight\n",
       "0    Dog  Yellow    1      89\n",
       "1    Cat    Pink    3      60"
      ]
     },
     "metadata": {},
     "output_type": "display_data"
    },
    {
     "name": "stdout",
     "output_type": "stream",
     "text": [
      "------------------------------------\n",
      "df_3:\n"
     ]
    },
    {
     "data": {
      "text/html": [
       "<div>\n",
       "<style scoped>\n",
       "    .dataframe tbody tr th:only-of-type {\n",
       "        vertical-align: middle;\n",
       "    }\n",
       "\n",
       "    .dataframe tbody tr th {\n",
       "        vertical-align: top;\n",
       "    }\n",
       "\n",
       "    .dataframe thead th {\n",
       "        text-align: right;\n",
       "    }\n",
       "</style>\n",
       "<table border=\"1\" class=\"dataframe\">\n",
       "  <thead>\n",
       "    <tr style=\"text-align: right;\">\n",
       "      <th></th>\n",
       "      <th>col 1</th>\n",
       "      <th>col 2</th>\n",
       "      <th>col 3</th>\n",
       "      <th>col 4</th>\n",
       "    </tr>\n",
       "  </thead>\n",
       "  <tbody>\n",
       "    <tr>\n",
       "      <th>0</th>\n",
       "      <td>-1</td>\n",
       "      <td>1</td>\n",
       "      <td>2</td>\n",
       "      <td>3</td>\n",
       "    </tr>\n",
       "    <tr>\n",
       "      <th>1</th>\n",
       "      <td>3</td>\n",
       "      <td>5</td>\n",
       "      <td>6</td>\n",
       "      <td>7</td>\n",
       "    </tr>\n",
       "  </tbody>\n",
       "</table>\n",
       "</div>"
      ],
      "text/plain": [
       "   col 1  col 2  col 3  col 4\n",
       "0     -1      1      2      3\n",
       "1      3      5      6      7"
      ]
     },
     "metadata": {},
     "output_type": "display_data"
    },
    {
     "name": "stdout",
     "output_type": "stream",
     "text": [
      "df_1:\n"
     ]
    },
    {
     "data": {
      "text/html": [
       "<div>\n",
       "<style scoped>\n",
       "    .dataframe tbody tr th:only-of-type {\n",
       "        vertical-align: middle;\n",
       "    }\n",
       "\n",
       "    .dataframe tbody tr th {\n",
       "        vertical-align: top;\n",
       "    }\n",
       "\n",
       "    .dataframe thead th {\n",
       "        text-align: right;\n",
       "    }\n",
       "</style>\n",
       "<table border=\"1\" class=\"dataframe\">\n",
       "  <thead>\n",
       "    <tr style=\"text-align: right;\">\n",
       "      <th></th>\n",
       "      <th>col 1</th>\n",
       "      <th>col 2</th>\n",
       "      <th>col 3</th>\n",
       "      <th>col 4</th>\n",
       "    </tr>\n",
       "  </thead>\n",
       "  <tbody>\n",
       "    <tr>\n",
       "      <th>0</th>\n",
       "      <td>-1</td>\n",
       "      <td>1</td>\n",
       "      <td>2</td>\n",
       "      <td>3</td>\n",
       "    </tr>\n",
       "    <tr>\n",
       "      <th>1</th>\n",
       "      <td>3</td>\n",
       "      <td>5</td>\n",
       "      <td>6</td>\n",
       "      <td>7</td>\n",
       "    </tr>\n",
       "  </tbody>\n",
       "</table>\n",
       "</div>"
      ],
      "text/plain": [
       "   col 1  col 2  col 3  col 4\n",
       "0     -1      1      2      3\n",
       "1      3      5      6      7"
      ]
     },
     "metadata": {},
     "output_type": "display_data"
    }
   ],
   "source": [
    "# Add a new column\n",
    "df_2['Weight'] = [89, 60]\n",
    "print(\"New df_2:\")\n",
    "display(df_2)\n",
    "print(\"------------------------------------\")\n",
    "\n",
    "# Special thing to take notice\n",
    "df_3 = df_1\n",
    "df_3['col 1'] = df_3['col 1'] - 1\n",
    "print(\"df_3:\")\n",
    "display(df_3)\n",
    "print(\"df_1:\")\n",
    "display(df_1)\n"
   ]
  },
  {
   "cell_type": "markdown",
   "metadata": {
    "id": "C-6WHe9LKRij"
   },
   "source": [
    "### Print Specific Data\n",
    "Here we use `.loc`, `.at` to obtain the cell values by providing the **labels** (e.g. 'Age', 'Weight'). For rows, since we do not create labels for them the defaults will be 0, 1, 2, 3...etc. We use `.iloc`, `.iat` to obtain the cell values by prividing the indicies (positions) of the rows and columns. "
   ]
  },
  {
   "cell_type": "code",
   "execution_count": 9,
   "metadata": {
    "id": "Qba5gUgAKRij",
    "outputId": "6046d6b5-a661-4705-987e-3407dc0e657a"
   },
   "outputs": [
    {
     "name": "stdout",
     "output_type": "stream",
     "text": [
      "df_4:\n"
     ]
    },
    {
     "data": {
      "text/html": [
       "<div>\n",
       "<style scoped>\n",
       "    .dataframe tbody tr th:only-of-type {\n",
       "        vertical-align: middle;\n",
       "    }\n",
       "\n",
       "    .dataframe tbody tr th {\n",
       "        vertical-align: top;\n",
       "    }\n",
       "\n",
       "    .dataframe thead th {\n",
       "        text-align: right;\n",
       "    }\n",
       "</style>\n",
       "<table border=\"1\" class=\"dataframe\">\n",
       "  <thead>\n",
       "    <tr style=\"text-align: right;\">\n",
       "      <th></th>\n",
       "      <th>Aminal</th>\n",
       "      <th>Color</th>\n",
       "      <th>Age</th>\n",
       "    </tr>\n",
       "  </thead>\n",
       "  <tbody>\n",
       "    <tr>\n",
       "      <th>0</th>\n",
       "      <td>Dog</td>\n",
       "      <td>Yellow</td>\n",
       "      <td>1</td>\n",
       "    </tr>\n",
       "    <tr>\n",
       "      <th>1</th>\n",
       "      <td>Cat</td>\n",
       "      <td>Pink</td>\n",
       "      <td>3</td>\n",
       "    </tr>\n",
       "  </tbody>\n",
       "</table>\n",
       "</div>"
      ],
      "text/plain": [
       "  Aminal   Color  Age\n",
       "0    Dog  Yellow    1\n",
       "1    Cat    Pink    3"
      ]
     },
     "metadata": {},
     "output_type": "display_data"
    },
    {
     "name": "stdout",
     "output_type": "stream",
     "text": [
      "------------------------------------\n",
      "Age of Dog: 1 \n",
      "\n",
      "------------------------------------\n",
      "Age Column:\n"
     ]
    },
    {
     "data": {
      "text/html": [
       "<div>\n",
       "<style scoped>\n",
       "    .dataframe tbody tr th:only-of-type {\n",
       "        vertical-align: middle;\n",
       "    }\n",
       "\n",
       "    .dataframe tbody tr th {\n",
       "        vertical-align: top;\n",
       "    }\n",
       "\n",
       "    .dataframe thead th {\n",
       "        text-align: right;\n",
       "    }\n",
       "</style>\n",
       "<table border=\"1\" class=\"dataframe\">\n",
       "  <thead>\n",
       "    <tr style=\"text-align: right;\">\n",
       "      <th></th>\n",
       "      <th>Age</th>\n",
       "    </tr>\n",
       "  </thead>\n",
       "  <tbody>\n",
       "    <tr>\n",
       "      <th>0</th>\n",
       "      <td>1</td>\n",
       "    </tr>\n",
       "    <tr>\n",
       "      <th>1</th>\n",
       "      <td>3</td>\n",
       "    </tr>\n",
       "  </tbody>\n",
       "</table>\n",
       "</div>"
      ],
      "text/plain": [
       "   Age\n",
       "0    1\n",
       "1    3"
      ]
     },
     "metadata": {},
     "output_type": "display_data"
    },
    {
     "name": "stdout",
     "output_type": "stream",
     "text": [
      "------------------------------------\n",
      "Age of Cat: 3 \n",
      "\n",
      "------------------------------------\n",
      "Dog row:\n",
      "Aminal       Dog\n",
      "Color     Yellow\n",
      "Age            1\n",
      "Name: 0, dtype: object \n",
      "\n",
      "------------------------------------\n",
      "Animals' age:\n",
      "0    1\n",
      "1    3\n",
      "Name: Age, dtype: int64 \n",
      "\n",
      "------------------------------------\n",
      "Age of Cat:  3\n"
     ]
    }
   ],
   "source": [
    "# Few ways to view the values\n",
    "\n",
    "# Create a data frame based on data_2; the values are copied\n",
    "df_4 = pd.DataFrame(data=data_2)\n",
    "print(\"df_4:\")\n",
    "display(df_4)\n",
    "print(\"------------------------------------\")\n",
    "\n",
    "# Selection by Label\n",
    "    # Getting the scalar value\n",
    "dog_age = df_4.loc[0, 'Age']\n",
    "print(\"Age of Dog:\", dog_age, '\\n')\n",
    "print(\"------------------------------------\")\n",
    "\n",
    "    # Getting the whole column \n",
    "aminals_age = df_4.loc[:, ['Age']]\n",
    "print(\"Age Column:\")\n",
    "display(aminals_age)\n",
    "print(\"------------------------------------\")\n",
    "\n",
    "    # Faster way to get a scalar\n",
    "cat_age = df_4.at[1, 'Age']\n",
    "print(\"Age of Cat:\", cat_age, '\\n')\n",
    "print(\"------------------------------------\")\n",
    "\n",
    "# Selection by position\n",
    "    # Selecting Row based on row number\n",
    "dog = df_4.iloc[0]\n",
    "print(\"Dog row:\")\n",
    "print(dog, '\\n')\n",
    "print(\"------------------------------------\")\n",
    "\n",
    "    # Selecting Col based on col number\n",
    "animals_age_p = df_4.iloc[:, 2]\n",
    "print(\"Animals' age:\")\n",
    "print(animals_age_p, '\\n')\n",
    "print(\"------------------------------------\")\n",
    "    # Selecting cell based on col number\n",
    "cat_age_p = df_4.iat[1, 2]\n",
    "print(\"Age of Cat: \", cat_age_p)"
   ]
  },
  {
   "cell_type": "markdown",
   "metadata": {
    "id": "BlYMiWHAKRij"
   },
   "source": [
    "#### Now it's your turn.\n",
    "**To-do:**\n",
    "\n",
    "1. Add a new **row** to your **demographics** data frame. The new row will contain information of another friend. *Note that we haven't taught you how to do so but you should be able to find resources online easily.* Print/display the data frame.\n",
    "2. Print all the information (whole row) about you using `.loc`.\n",
    "3. Print the 'Name' of your second friend using `.iat`.\n"
   ]
  },
  {
   "cell_type": "code",
   "execution_count": 10,
   "metadata": {
    "id": "JdHcFosaKRik"
   },
   "outputs": [
    {
     "name": "stdout",
     "output_type": "stream",
     "text": [
      "Demographics data frame with new row with information of another friend appended:\n"
     ]
    },
    {
     "data": {
      "text/html": [
       "<div>\n",
       "<style scoped>\n",
       "    .dataframe tbody tr th:only-of-type {\n",
       "        vertical-align: middle;\n",
       "    }\n",
       "\n",
       "    .dataframe tbody tr th {\n",
       "        vertical-align: top;\n",
       "    }\n",
       "\n",
       "    .dataframe thead th {\n",
       "        text-align: right;\n",
       "    }\n",
       "</style>\n",
       "<table border=\"1\" class=\"dataframe\">\n",
       "  <thead>\n",
       "    <tr style=\"text-align: right;\">\n",
       "      <th></th>\n",
       "      <th>Name</th>\n",
       "      <th>Age</th>\n",
       "      <th>Height</th>\n",
       "      <th>Hobby</th>\n",
       "    </tr>\n",
       "  </thead>\n",
       "  <tbody>\n",
       "    <tr>\n",
       "      <th>0</th>\n",
       "      <td>Madhu</td>\n",
       "      <td>21</td>\n",
       "      <td>5'4\"</td>\n",
       "      <td>Tennis</td>\n",
       "    </tr>\n",
       "    <tr>\n",
       "      <th>1</th>\n",
       "      <td>Rachel</td>\n",
       "      <td>24</td>\n",
       "      <td>5'5\"</td>\n",
       "      <td>Shopping</td>\n",
       "    </tr>\n",
       "    <tr>\n",
       "      <th>2</th>\n",
       "      <td>Ross</td>\n",
       "      <td>26</td>\n",
       "      <td>6'1\"</td>\n",
       "      <td>Museums</td>\n",
       "    </tr>\n",
       "    <tr>\n",
       "      <th>3</th>\n",
       "      <td>Monica</td>\n",
       "      <td>24</td>\n",
       "      <td>5'4\"</td>\n",
       "      <td>Cooking</td>\n",
       "    </tr>\n",
       "  </tbody>\n",
       "</table>\n",
       "</div>"
      ],
      "text/plain": [
       "     Name  Age Height     Hobby\n",
       "0   Madhu   21   5'4\"    Tennis\n",
       "1  Rachel   24   5'5\"  Shopping\n",
       "2    Ross   26   6'1\"   Museums\n",
       "3  Monica   24   5'4\"   Cooking"
      ]
     },
     "metadata": {},
     "output_type": "display_data"
    },
    {
     "name": "stdout",
     "output_type": "stream",
     "text": [
      "------------------------------------\n",
      "\n",
      "My information (whole row) using .loc:\n",
      "Name       Madhu\n",
      "Age           21\n",
      "Height      5'4\"\n",
      "Hobby     Tennis\n",
      "Name: 0, dtype: object \n",
      "\n",
      "------------------------------------\n",
      "\n",
      "Name of Second Friend using .iat:  Ross \n",
      "\n",
      "------------------------------------\n"
     ]
    }
   ],
   "source": [
    "### Insert your code below ###\n",
    "\n",
    "\n",
    "# Dictionary containing new information of another friend\n",
    "new_friend = {'Name': 'Monica', 'Age': 24, 'Height': \"5'4\\\"\", 'Hobby': 'Cooking'}\n",
    "\n",
    "# Add new row (information from dictionary new_friend) to demographics dataframe \n",
    "demographics = demographics.append(new_friend, ignore_index = True)\n",
    "\n",
    "print(\"Demographics data frame with new row with information of another friend appended:\")\n",
    "display(demographics)\n",
    "print(\"------------------------------------\\n\")\n",
    "\n",
    "# Select entire row for label of the index (0) using .loc\n",
    "my_information = demographics.loc[0]\n",
    "print(\"My information (whole row) using .loc:\")\n",
    "print(my_information, '\\n')\n",
    "\n",
    "print(\"------------------------------------\\n\")\n",
    "\n",
    "# Selecting cell based on row/column pair (row=2, column=0)\n",
    "name_friend2 = demographics.iat[2, 0]\n",
    "print(\"Name of Second Friend using .iat: \", name_friend2, \"\\n\")\n",
    "print(\"------------------------------------\")\n"
   ]
  },
  {
   "cell_type": "markdown",
   "metadata": {
    "id": "7LZKFQT2KRik"
   },
   "source": [
    "**Congradulation on finishing the tutorial! Now you can move on to the next step of the lab.**"
   ]
  }
 ],
 "metadata": {
  "colab": {
   "name": "Notebook_Practice.ipynb",
   "provenance": []
  },
  "kernelspec": {
   "display_name": "Python 3",
   "language": "python",
   "name": "python3"
  },
  "language_info": {
   "codemirror_mode": {
    "name": "ipython",
    "version": 3
   },
   "file_extension": ".py",
   "mimetype": "text/x-python",
   "name": "python",
   "nbconvert_exporter": "python",
   "pygments_lexer": "ipython3",
   "version": "3.8.8"
  }
 },
 "nbformat": 4,
 "nbformat_minor": 1
}
